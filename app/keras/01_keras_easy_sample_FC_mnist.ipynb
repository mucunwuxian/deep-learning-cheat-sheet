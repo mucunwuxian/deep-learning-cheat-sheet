{
 "cells": [
  {
   "cell_type": "code",
   "execution_count": null,
   "metadata": {},
   "outputs": [],
   "source": [
    "# lib import\n",
    "import keras\n",
    "from keras.datasets   import mnist\n",
    "from keras.models     import Sequential\n",
    "from keras.layers     import Dense, Dropout, BatchNormalization\n",
    "from keras.optimizers import RMSprop\n",
    "\n",
    "import numpy          as     np\n"
   ]
  },
  {
   "cell_type": "code",
   "execution_count": null,
   "metadata": {},
   "outputs": [],
   "source": [
    "# the data, shuffled and split between train and test sets\n",
    "(X_train, y_train), (X_test, y_test) = mnist.load_data()\n"
   ]
  },
  {
   "cell_type": "code",
   "execution_count": null,
   "metadata": {},
   "outputs": [],
   "source": [
    "X_train  = X_train.reshape(60000, 784).astype('float32')\n",
    "X_test   = X_test.reshape(10000, 784).astype('float32')\n",
    "X_train /= 255.0\n",
    "X_test  /= 255.0\n",
    "\n",
    "print('X_train.shape = (%d, %d)' % X_train.shape)\n",
    "print('X_test.shape  = (%d, %d)' % X_test.shape)\n"
   ]
  },
  {
   "cell_type": "code",
   "execution_count": null,
   "metadata": {},
   "outputs": [],
   "source": [
    "num_class = np.max(y_train) + 1\n",
    "\n",
    "print('y_train.shape = %d' % y_train.shape)\n",
    "print('y_test.shape  = %d' % y_test.shape)\n",
    "print('num_class     = %d' % num_class)\n",
    "\n",
    "# convert class vectors to binary class matrices\n",
    "y_train = keras.utils.to_categorical(y_train, num_class)\n",
    "y_test  = keras.utils.to_categorical(y_test,  num_class)\n",
    "\n",
    "print('')\n",
    "print('y_train.shape = (%d, %d)' % y_train.shape)\n",
    "print('y_test.shape  = (%d, %d)' % y_test.shape)\n"
   ]
  },
  {
   "cell_type": "code",
   "execution_count": null,
   "metadata": {},
   "outputs": [],
   "source": [
    "# define model\n",
    "model = Sequential()\n",
    "\n",
    "# block 1\n",
    "model.add(Dense(units=512, \n",
    "                activation='relu', \n",
    "                use_bias=True,\n",
    "                input_shape=(784,)))\n",
    "model.add(BatchNormalization())\n",
    "model.add(Dropout(rate=0.2))\n",
    "\n",
    "# block 2\n",
    "model.add(Dense(units=256, \n",
    "                activation='relu'))\n",
    "model.add(BatchNormalization())\n",
    "model.add(Dropout(rate=0.2))\n",
    "\n",
    "# block 3\n",
    "model.add(Dense(units=num_class, \n",
    "                activation='softmax'))\n",
    "\n",
    "# kernel_initializer   info -> https://keras.io/initializers/\n",
    "# kernel_regularizer   info -> https://keras.io/regularizers/\n",
    "# activity_regularizer info -> https://keras.io/regularizers/\n",
    "# kernel_constraint    info -> https://keras.io/constraints/\n"
   ]
  },
  {
   "cell_type": "code",
   "execution_count": null,
   "metadata": {},
   "outputs": [],
   "source": [
    "# compile model\n",
    "model.compile(loss='categorical_crossentropy',\n",
    "              optimizer=RMSprop(),\n",
    "              metrics=['accuracy'])\n",
    "\n",
    "# optimizer info -> https://keras.io/optimizers/\n"
   ]
  },
  {
   "cell_type": "code",
   "execution_count": null,
   "metadata": {},
   "outputs": [],
   "source": [
    "# set param for learning\n",
    "batch_size  = 128\n",
    "epochs      = 5\n"
   ]
  },
  {
   "cell_type": "code",
   "execution_count": null,
   "metadata": {},
   "outputs": [],
   "source": [
    "# learn\n",
    "history = model.fit(x=X_train, \n",
    "                    y=y_train,\n",
    "                    batch_size=batch_size,\n",
    "                    epochs=epochs,\n",
    "                    verbose=1,\n",
    "                    validation_data=(X_test, y_test))\n"
   ]
  },
  {
   "cell_type": "code",
   "execution_count": null,
   "metadata": {},
   "outputs": [],
   "source": [
    "score = model.evaluate(x=X_test, \n",
    "                       y=y_test, \n",
    "                       verbose=0)\n",
    "print('Test loss     = %.3f' % score[0])\n",
    "print('Test accuracy = %.3f' % score[1])\n"
   ]
  },
  {
   "cell_type": "code",
   "execution_count": null,
   "metadata": {},
   "outputs": [],
   "source": []
  }
 ],
 "metadata": {
  "kernelspec": {
   "display_name": "Python 3",
   "language": "python",
   "name": "python3"
  },
  "language_info": {
   "codemirror_mode": {
    "name": "ipython",
    "version": 3
   },
   "file_extension": ".py",
   "mimetype": "text/x-python",
   "name": "python",
   "nbconvert_exporter": "python",
   "pygments_lexer": "ipython3",
   "version": "3.6.6"
  }
 },
 "nbformat": 4,
 "nbformat_minor": 2
}
