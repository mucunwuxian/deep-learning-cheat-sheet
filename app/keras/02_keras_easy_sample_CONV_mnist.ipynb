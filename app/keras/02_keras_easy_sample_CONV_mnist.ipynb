{
 "cells": [
  {
   "cell_type": "markdown",
   "metadata": {},
   "source": [
    "follow from https://qiita.com/koshian2/items/f4917b1e6c944674fb80"
   ]
  },
  {
   "cell_type": "code",
   "execution_count": null,
   "metadata": {},
   "outputs": [],
   "source": [
    "# lib import\n",
    "import keras\n",
    "from keras.datasets   import mnist\n",
    "from keras.models     import Model\n",
    "from keras.layers     import Dense, Dropout, BatchNormalization, Input, Activation, Conv2D, Flatten, MaxPooling2D\n",
    "from keras.optimizers import RMSprop\n",
    "\n",
    "import numpy          as     np\n"
   ]
  },
  {
   "cell_type": "code",
   "execution_count": null,
   "metadata": {},
   "outputs": [],
   "source": [
    "# the data, shuffled and split between train and test sets\n",
    "(X_train, y_train), (X_test, y_test) = mnist.load_data()\n"
   ]
  },
  {
   "cell_type": "code",
   "execution_count": null,
   "metadata": {},
   "outputs": [],
   "source": [
    "X_train  = X_train.astype('float32')\n",
    "X_test   = X_test.astype('float32')\n",
    "X_train /= 255.0\n",
    "X_test  /= 255.0\n",
    "X_train  = X_train[:, :, :, np.newaxis]\n",
    "X_test   = X_test[:, :, :, np.newaxis]\n",
    "\n",
    "\n",
    "print('X_train.shape = (%d, %d, %d, %d)' % X_train.shape)\n",
    "print('X_test.shape  = (%d, %d, %d, %d)' % X_test.shape)\n"
   ]
  },
  {
   "cell_type": "code",
   "execution_count": null,
   "metadata": {},
   "outputs": [],
   "source": [
    "num_class = np.max(y_train) + 1\n",
    "\n",
    "print('y_train.shape = %d' % y_train.shape)\n",
    "print('y_test.shape  = %d' % y_test.shape)\n",
    "print('num_class     = %d' % num_class)\n",
    "\n",
    "# convert class vectors to binary class matrices\n",
    "y_train = keras.utils.to_categorical(y_train, num_class)\n",
    "y_test  = keras.utils.to_categorical(y_test,  num_class)\n",
    "\n",
    "print('')\n",
    "print('y_train.shape = (%d, %d)' % y_train.shape)\n",
    "print('y_test.shape  = (%d, %d)' % y_test.shape)\n"
   ]
  },
  {
   "cell_type": "code",
   "execution_count": null,
   "metadata": {},
   "outputs": [],
   "source": [
    "# define model create method\n",
    "def create_model(num_layer):\n",
    "    # input layer\n",
    "    input = Input(shape=(28, 28, 1))\n",
    "    x     = input\n",
    "    # hidden layer (convolution)\n",
    "    for layer_i in range(num_layer):\n",
    "        # conv\n",
    "        x = Conv2D(filters=(2 * (layer_i + 1)), \n",
    "                   kernel_size=(3, 3), \n",
    "                   padding='valid')(x)\n",
    "        # batch norm\n",
    "        x = BatchNormalization()(x)\n",
    "        # activation\n",
    "        x = Activation(\"relu\")(x)\n",
    "        # max pool\n",
    "        x = MaxPooling2D(pool_size=(2, 2))(x)\n",
    "    # FC\n",
    "    x = Flatten()(x)\n",
    "    # 出力層\n",
    "    y = Dense(units=num_class, \n",
    "              activation=\"softmax\")(x)\n",
    "    # モデル\n",
    "    model = Model(inputs=input, \n",
    "                  outputs=y)\n",
    "    return model\n"
   ]
  },
  {
   "cell_type": "code",
   "execution_count": null,
   "metadata": {},
   "outputs": [],
   "source": [
    "# create model\n",
    "model = create_model(2)\n",
    "\n",
    "# compile model\n",
    "model.compile(loss='categorical_crossentropy',\n",
    "              optimizer=RMSprop(),\n",
    "              metrics=['accuracy'])\n"
   ]
  },
  {
   "cell_type": "code",
   "execution_count": null,
   "metadata": {},
   "outputs": [],
   "source": [
    "# set param for learning\n",
    "batch_size  = 128\n",
    "epochs      = 5\n"
   ]
  },
  {
   "cell_type": "code",
   "execution_count": null,
   "metadata": {},
   "outputs": [],
   "source": [
    "# learn\n",
    "history = model.fit(X_train, y_train,\n",
    "                    batch_size=batch_size,\n",
    "                    epochs=epochs,\n",
    "                    verbose=1,\n",
    "                    validation_data=(X_test, y_test))\n"
   ]
  },
  {
   "cell_type": "code",
   "execution_count": null,
   "metadata": {},
   "outputs": [],
   "source": [
    "score = model.evaluate(x=X_test, \n",
    "                       y=y_test, \n",
    "                       verbose=0)\n",
    "print('Test loss     = %.3f' % score[0])\n",
    "print('Test accuracy = %.3f' % score[1])\n"
   ]
  },
  {
   "cell_type": "code",
   "execution_count": null,
   "metadata": {},
   "outputs": [],
   "source": []
  }
 ],
 "metadata": {
  "kernelspec": {
   "display_name": "Python 3",
   "language": "python",
   "name": "python3"
  },
  "language_info": {
   "codemirror_mode": {
    "name": "ipython",
    "version": 3
   },
   "file_extension": ".py",
   "mimetype": "text/x-python",
   "name": "python",
   "nbconvert_exporter": "python",
   "pygments_lexer": "ipython3",
   "version": "3.6.6"
  }
 },
 "nbformat": 4,
 "nbformat_minor": 2
}
