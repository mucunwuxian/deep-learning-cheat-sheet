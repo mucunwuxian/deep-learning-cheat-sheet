{
 "cells": [
  {
   "cell_type": "markdown",
   "metadata": {},
   "source": [
    "follow from https://qiita.com/koshian2/items/01bd9f08444799625607"
   ]
  },
  {
   "cell_type": "code",
   "execution_count": null,
   "metadata": {},
   "outputs": [],
   "source": [
    "from keras.models     import Model\n",
    "from keras.layers     import Conv2D, Activation, BatchNormalization, Concatenate, AveragePooling2D, Input, GlobalAveragePooling2D, Dense\n",
    "from keras.optimizers import Adam\n",
    "from keras.datasets   import cifar10\n",
    "from keras.utils      import to_categorical\n",
    "import numpy as np\n"
   ]
  },
  {
   "cell_type": "code",
   "execution_count": null,
   "metadata": {},
   "outputs": [],
   "source": [
    "# CIFAR-10の読み込み\n",
    "(X_train, y_train), (X_test, y_test) = cifar10.load_data()\n",
    "\n",
    "print('np.shape(X_train) = (%d, %d, %d, %d)' % np.shape(X_train))\n",
    "print('np.shape(y_train) = (%d, %d)' % np.shape(y_train))\n",
    "print('np.shape(X_test)  = (%d, %d, %d, %d)' % np.shape(X_test))\n",
    "print('np.shape(y_test)  = (%d, %d)' % np.shape(y_test))\n"
   ]
  },
  {
   "cell_type": "code",
   "execution_count": null,
   "metadata": {},
   "outputs": [],
   "source": [
    "# data value scaling...\n",
    "X_train         = (X_train.astype('float32') / 255.0)\n",
    "X_test          = (X_test.astype('float32')  / 255.0)\n",
    "y_train, y_test = to_categorical(y_train), to_categorical(y_test)\n"
   ]
  },
  {
   "cell_type": "code",
   "execution_count": null,
   "metadata": {},
   "outputs": [],
   "source": [
    "class DenseNetSimple:\n",
    "    def __init__(self, \n",
    "                 growth_rate, \n",
    "                 compression_factor=0.5, \n",
    "                 blocks=[1,2,4,3]):\n",
    "        # growth rate\n",
    "        self.growth_rate        = growth_rate\n",
    "        # compression factor\n",
    "        self.compression_factor = compression_factor\n",
    "        # create model\n",
    "        self.model              = self.make_model(blocks)\n",
    "\n",
    "    # dense block layer\n",
    "    def dense_block(self, \n",
    "                    input_tensor, \n",
    "                    input_channels, \n",
    "                    num_block):\n",
    "        # input layer of dense block\n",
    "        x           = input_tensor\n",
    "        num_channel = input_channels\n",
    "        for i in range(num_block):\n",
    "            # shortcut\n",
    "            main    = x\n",
    "            # branch of DenseBlock\n",
    "            x       = BatchNormalization()(x)\n",
    "            x       = Activation(\"relu\")(x)\n",
    "            # bottle-neck 1x1 conv\n",
    "            x       = Conv2D(32, (1, 1))(x) # x = Conv2D(128, (1, 1))(x)\n",
    "            x       = BatchNormalization()(x)\n",
    "            x       = Activation(\"relu\")(x)\n",
    "            # 3x3 conv (filter num is growth rate)\n",
    "            x       = Conv2D(self.growth_rate, (3, 3), padding=\"same\")(x)\n",
    "            # merge shortcut and branch\n",
    "            x       = Concatenate()([main, x])\n",
    "            num_channel += self.growth_rate\n",
    "        return x, num_channel\n",
    "\n",
    "    # transition layer\n",
    "    def transition_layer(self, input_tensor, input_channels):\n",
    "        num_channel = int(input_channels * self.compression_factor)\n",
    "        # 1x1 conv\n",
    "        x = Conv2D(num_channel, (1, 1))(input_tensor)\n",
    "        # average pooling\n",
    "        x = AveragePooling2D((2, 2))(x)\n",
    "        return x, num_channel\n",
    "\n",
    "    # make model\n",
    "    def make_model(self, blocks):\n",
    "        # blocks=[6,12,24,16] is same with DenseNet-121\n",
    "        input = Input(shape=(32,32,3))\n",
    "        \n",
    "        # not issue fractional\n",
    "        n = 4 # n = 16\n",
    "        \n",
    "        x = Conv2D(n, (1,1))(input)\n",
    "        # [dense block] - [transition layer] - [dense block]\n",
    "        for block_i in range(len(blocks)):\n",
    "            # transition\n",
    "            if (block_i != 0):\n",
    "                x, n = self.transition_layer(x, n)\n",
    "            # dense block\n",
    "            x, n = self.dense_block(x, n, blocks[block_i])\n",
    "        # global average pooling\n",
    "        x = GlobalAveragePooling2D()(x)\n",
    "        # output layer\n",
    "        output = Dense(10, activation=\"softmax\")(x)\n",
    "        \n",
    "        # set model\n",
    "        model = Model(input, output)\n",
    "        return model\n"
   ]
  },
  {
   "cell_type": "code",
   "execution_count": null,
   "metadata": {
    "scrolled": false
   },
   "outputs": [],
   "source": [
    "# k=16の場合\n",
    "# densenet = DenseNetSimple(16)\n",
    "densenet = DenseNetSimple(4)\n",
    "densenet.model.compile(optimizer=Adam(), loss=\"categorical_crossentropy\", metrics=[\"acc\"])\n",
    "densenet.model.summary()\n"
   ]
  },
  {
   "cell_type": "code",
   "execution_count": null,
   "metadata": {
    "scrolled": true
   },
   "outputs": [],
   "source": [
    "# train\n",
    "history = densenet.model.fit(x=X_train, \n",
    "                             y=y_train, \n",
    "                             batch_size=64, \n",
    "                             epochs=10, \n",
    "                             validation_data=(X_test, y_test))\n"
   ]
  },
  {
   "cell_type": "code",
   "execution_count": null,
   "metadata": {},
   "outputs": [],
   "source": [
    "score = densenet.model.evaluate(x=X_test, \n",
    "                                y=y_test, \n",
    "                                verbose=0)\n",
    "print('Test loss     = %.3f' % score[0])\n",
    "print('Test accuracy = %.3f' % score[1])\n"
   ]
  },
  {
   "cell_type": "code",
   "execution_count": null,
   "metadata": {},
   "outputs": [],
   "source": []
  }
 ],
 "metadata": {
  "kernelspec": {
   "display_name": "Python 3",
   "language": "python",
   "name": "python3"
  },
  "language_info": {
   "codemirror_mode": {
    "name": "ipython",
    "version": 3
   },
   "file_extension": ".py",
   "mimetype": "text/x-python",
   "name": "python",
   "nbconvert_exporter": "python",
   "pygments_lexer": "ipython3",
   "version": "3.6.6"
  }
 },
 "nbformat": 4,
 "nbformat_minor": 2
}
